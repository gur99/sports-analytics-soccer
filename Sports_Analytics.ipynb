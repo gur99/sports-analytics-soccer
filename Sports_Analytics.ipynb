{
 "cells": [
  {
   "cell_type": "markdown",
   "id": "59ecb333",
   "metadata": {},
   "source": [
    "## Sports Analytics Project ⚽"
   ]
  },
  {
   "cell_type": "code",
   "execution_count": null,
   "id": "e669ba03",
   "metadata": {},
   "outputs": [],
   "source": []
  }
 ],
 "metadata": {
  "kernelspec": {
   "display_name": "Python 3",
   "language": "python",
   "name": "python3"
  },
  "language_info": {
   "name": "python",
   "version": "3.8.10"
  }
 },
 "nbformat": 4,
 "nbformat_minor": 5
}
