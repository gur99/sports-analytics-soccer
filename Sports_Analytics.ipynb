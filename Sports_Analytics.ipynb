{
 "cells": [
  {
   "cell_type": "markdown",
   "id": "59ecb333",
   "metadata": {},
   "source": [
    "## Sports Analytics Project ⚽"
   ]
  },
  {
   "cell_type": "code",
   "execution_count": 1,
   "id": "e669ba03",
   "metadata": {},
   "outputs": [
    {
     "name": "stdout",
     "output_type": "stream",
     "text": [
      "this is soccer results predict project\n"
     ]
    }
   ],
   "source": [
    "print(\"this is soccer results predict project\")"
   ]
  },
  {
   "cell_type": "code",
   "execution_count": 2,
   "id": "01d4652d",
   "metadata": {},
   "outputs": [
    {
     "name": "stdout",
     "output_type": "stream",
     "text": [
      "another useles output\n"
     ]
    }
   ],
   "source": [
    "print(\"another useles output\")"
   ]
  }
 ],
 "metadata": {
  "kernelspec": {
   "display_name": "Python 3",
   "language": "python",
   "name": "python3"
  },
  "language_info": {
   "codemirror_mode": {
    "name": "ipython",
    "version": 3
   },
   "file_extension": ".py",
   "mimetype": "text/x-python",
   "name": "python",
   "nbconvert_exporter": "python",
   "pygments_lexer": "ipython3",
   "version": "3.10.18"
  }
 },
 "nbformat": 4,
 "nbformat_minor": 5
}
