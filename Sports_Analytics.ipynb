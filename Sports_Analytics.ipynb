{
   "cells": [
      {
         "cell_type": "markdown",
         "id": "59ecb333",
         "metadata": {},
         "source": [
            "## Sports Analytics Project ⚽"
         ]
      },
      {
         "cell_type": "code",
         "execution_count": 1,
         "id": "e669ba03",
         "metadata": {},
         "outputs": [
            {
               "name": "stdout",
               "output_type": "stream",
               "text": [
                  "this is soccer results predict project\n"
               ]
            }
         ],
         "source": [
            "print(\"this is soccer results predict project\")"
         ]
      },
      {
         "cell_type": "code",
         "execution_count": null,
         "id": "5efe2760",
         "metadata": {},
         "outputs": [
            {
               "name": "stdout",
               "output_type": "stream",
               "text": [
                  "Defaulting to user installation because normal site-packages is not writeable\n",
                  "Collecting pandas\n",
                  "  Using cached pandas-2.3.2-cp310-cp310-manylinux_2_17_x86_64.manylinux2014_x86_64.whl.metadata (91 kB)\n",
                  "Collecting numpy\n",
                  "  Using cached numpy-2.2.6-cp310-cp310-manylinux_2_17_x86_64.manylinux2014_x86_64.whl.metadata (62 kB)\n",
                  "Collecting matplotlib\n",
                  "  Using cached matplotlib-3.10.6-cp310-cp310-manylinux2014_x86_64.manylinux_2_17_x86_64.whl.metadata (11 kB)\n",
                  "Collecting scikit-learn\n",
                  "  Using cached scikit_learn-1.7.1-cp310-cp310-manylinux2014_x86_64.manylinux_2_17_x86_64.whl.metadata (11 kB)\n",
                  "Requirement already satisfied: python-dateutil>=2.8.2 in /home/gur/.local/lib/python3.10/site-packages (from pandas) (2.9.0.post0)\n",
                  "Collecting pytz>=2020.1 (from pandas)\n",
                  "  Using cached pytz-2025.2-py2.py3-none-any.whl.metadata (22 kB)\n",
                  "Collecting tzdata>=2022.7 (from pandas)\n",
                  "  Using cached tzdata-2025.2-py2.py3-none-any.whl.metadata (1.4 kB)\n",
                  "Collecting contourpy>=1.0.1 (from matplotlib)\n",
                  "  Using cached contourpy-1.3.2-cp310-cp310-manylinux_2_17_x86_64.manylinux2014_x86_64.whl.metadata (5.5 kB)\n",
                  "Collecting cycler>=0.10 (from matplotlib)\n",
                  "  Using cached cycler-0.12.1-py3-none-any.whl.metadata (3.8 kB)\n",
                  "Collecting fonttools>=4.22.0 (from matplotlib)\n",
                  "  Using cached fonttools-4.59.2-cp310-cp310-manylinux2014_x86_64.manylinux_2_17_x86_64.whl.metadata (109 kB)\n",
                  "Collecting kiwisolver>=1.3.1 (from matplotlib)\n",
                  "  Using cached kiwisolver-1.4.9-cp310-cp310-manylinux_2_12_x86_64.manylinux2010_x86_64.whl.metadata (6.3 kB)\n",
                  "Requirement already satisfied: packaging>=20.0 in /home/gur/.local/lib/python3.10/site-packages (from matplotlib) (25.0)\n",
                  "Collecting pillow>=8 (from matplotlib)\n",
                  "  Using cached pillow-11.3.0-cp310-cp310-manylinux_2_27_x86_64.manylinux_2_28_x86_64.whl.metadata (9.0 kB)\n",
                  "Requirement already satisfied: pyparsing>=2.3.1 in /usr/lib/python3/dist-packages (from matplotlib) (2.4.6)\n",
                  "Collecting scipy>=1.8.0 (from scikit-learn)\n",
                  "  Using cached scipy-1.15.3-cp310-cp310-manylinux_2_17_x86_64.manylinux2014_x86_64.whl.metadata (61 kB)\n",
                  "Collecting joblib>=1.2.0 (from scikit-learn)\n",
                  "  Using cached joblib-1.5.2-py3-none-any.whl.metadata (5.6 kB)\n",
                  "Collecting threadpoolctl>=3.1.0 (from scikit-learn)\n",
                  "  Using cached threadpoolctl-3.6.0-py3-none-any.whl.metadata (13 kB)\n",
                  "Requirement already satisfied: six>=1.5 in /usr/lib/python3/dist-packages (from python-dateutil>=2.8.2->pandas) (1.14.0)\n",
                  "Using cached pandas-2.3.2-cp310-cp310-manylinux_2_17_x86_64.manylinux2014_x86_64.whl (12.3 MB)\n",
                  "Using cached numpy-2.2.6-cp310-cp310-manylinux_2_17_x86_64.manylinux2014_x86_64.whl (16.8 MB)\n",
                  "Using cached matplotlib-3.10.6-cp310-cp310-manylinux2014_x86_64.manylinux_2_17_x86_64.whl (8.7 MB)\n",
                  "Using cached scikit_learn-1.7.1-cp310-cp310-manylinux2014_x86_64.manylinux_2_17_x86_64.whl (9.7 MB)\n",
                  "Using cached contourpy-1.3.2-cp310-cp310-manylinux_2_17_x86_64.manylinux2014_x86_64.whl (325 kB)\n",
                  "Using cached cycler-0.12.1-py3-none-any.whl (8.3 kB)\n",
                  "Using cached fonttools-4.59.2-cp310-cp310-manylinux2014_x86_64.manylinux_2_17_x86_64.whl (4.8 MB)\n",
                  "Using cached joblib-1.5.2-py3-none-any.whl (308 kB)\n",
                  "Using cached kiwisolver-1.4.9-cp310-cp310-manylinux_2_12_x86_64.manylinux2010_x86_64.whl (1.6 MB)\n",
                  "Using cached pillow-11.3.0-cp310-cp310-manylinux_2_27_x86_64.manylinux_2_28_x86_64.whl (6.6 MB)\n",
                  "Using cached pytz-2025.2-py2.py3-none-any.whl (509 kB)\n",
                  "Using cached scipy-1.15.3-cp310-cp310-manylinux_2_17_x86_64.manylinux2014_x86_64.whl (37.7 MB)\n",
                  "Using cached threadpoolctl-3.6.0-py3-none-any.whl (18 kB)\n",
                  "Using cached tzdata-2025.2-py2.py3-none-any.whl (347 kB)\n",
                  "Installing collected packages: pytz, tzdata, threadpoolctl, pillow, numpy, kiwisolver, joblib, fonttools, cycler, scipy, pandas, contourpy, scikit-learn, matplotlib\n",
                  "\u001b[2K   \u001b[90m━━━━━━━━━━━━━━━━━━━━━━━━━━━━━━━━━━━━━━━━\u001b[0m \u001b[32m14/14\u001b[0m [matplotlib]4\u001b[0m [matplotlib]n]\n",
                  "\u001b[1A\u001b[2KSuccessfully installed contourpy-1.3.2 cycler-0.12.1 fonttools-4.59.2 joblib-1.5.2 kiwisolver-1.4.9 matplotlib-3.10.6 numpy-2.2.6 pandas-2.3.2 pillow-11.3.0 pytz-2025.2 scikit-learn-1.7.1 scipy-1.15.3 threadpoolctl-3.6.0 tzdata-2025.2\n",
                  "Note: you may need to restart the kernel to use updated packages.\n"
               ]
            }
         ],
         "source": [
            "# pip install pandas numpy matplotlib scikit-learn"
         ]
      },
      {
         "cell_type": "code",
         "execution_count": 6,
         "id": "966a4961",
         "metadata": {},
         "outputs": [],
         "source": []
      }
   ],
   "metadata": {
      "kernelspec": {
         "display_name": "Python 3",
         "language": "python",
         "name": "python3"
      },
      "language_info": {
         "codemirror_mode": {
            "name": "ipython",
            "version": 3
         },
         "file_extension": ".py",
         "mimetype": "text/x-python",
         "name": "python",
         "nbconvert_exporter": "python",
         "pygments_lexer": "ipython3",
         "version": "3.10.18"
      }
   },
   "nbformat": 4,
   "nbformat_minor": 5
}